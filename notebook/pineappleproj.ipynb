{
 "cells": [
  {
   "cell_type": "code",
   "execution_count": 1,
   "id": "3d5816e6",
   "metadata": {},
   "outputs": [],
   "source": [
    "import pandas as pd\n",
    "import geopandas as gpd\n",
    "import matplotlib.pyplot as plt\n",
    "import folium\n",
    "from folium.plugins import MarkerCluster\n",
    "from folium.plugins import FastMarkerCluster\n",
    "from sqlalchemy import create_engine"
   ]
  },
  {
   "cell_type": "code",
   "execution_count": 2,
   "id": "eeccaa91",
   "metadata": {},
   "outputs": [
    {
     "name": "stdout",
     "output_type": "stream",
     "text": [
      "Requirement already satisfied: sqlalchemy in c:\\users\\mdalt\\anaconda3\\envs\\scooters\\lib\\site-packages (1.4.39)Note: you may need to restart the kernel to use updated packages.\n",
      "\n",
      "Collecting sqlalchemy\n",
      "  Downloading SQLAlchemy-2.0.29-cp310-cp310-win_amd64.whl.metadata (9.8 kB)\n",
      "Requirement already satisfied: typing-extensions>=4.6.0 in c:\\users\\mdalt\\anaconda3\\envs\\scooters\\lib\\site-packages (from sqlalchemy) (4.11.0)\n",
      "Requirement already satisfied: greenlet!=0.4.17 in c:\\users\\mdalt\\anaconda3\\envs\\scooters\\lib\\site-packages (from sqlalchemy) (3.0.3)\n",
      "Downloading SQLAlchemy-2.0.29-cp310-cp310-win_amd64.whl (2.1 MB)\n",
      "   ---------------------------------------- 0.0/2.1 MB ? eta -:--:--\n",
      "   --- ------------------------------------ 0.2/2.1 MB 5.0 MB/s eta 0:00:01\n",
      "   ------- -------------------------------- 0.4/2.1 MB 6.1 MB/s eta 0:00:01\n",
      "   ----------- ---------------------------- 0.6/2.1 MB 5.4 MB/s eta 0:00:01\n",
      "   ------------ --------------------------- 0.7/2.1 MB 4.2 MB/s eta 0:00:01\n",
      "   ---------------- ----------------------- 0.8/2.1 MB 3.8 MB/s eta 0:00:01\n",
      "   ----------------------- ---------------- 1.2/2.1 MB 4.5 MB/s eta 0:00:01\n",
      "   ---------------------------- ----------- 1.5/2.1 MB 4.5 MB/s eta 0:00:01\n",
      "   --------------------------------- ------ 1.7/2.1 MB 4.6 MB/s eta 0:00:01\n",
      "   ---------------------------------------  2.1/2.1 MB 5.1 MB/s eta 0:00:01\n",
      "   ---------------------------------------- 2.1/2.1 MB 4.7 MB/s eta 0:00:00\n",
      "Installing collected packages: sqlalchemy\n",
      "  Attempting uninstall: sqlalchemy\n",
      "    Found existing installation: SQLAlchemy 1.4.39\n",
      "    Uninstalling SQLAlchemy-1.4.39:\n",
      "      Successfully uninstalled SQLAlchemy-1.4.39\n",
      "Successfully installed sqlalchemy-2.0.29\n"
     ]
    }
   ],
   "source": [
    "pip install sqlalchemy --upgrade"
   ]
  },
  {
   "cell_type": "code",
   "execution_count": null,
   "id": "cf666ebd",
   "metadata": {},
   "outputs": [],
   "source": []
  }
 ],
 "metadata": {
  "kernelspec": {
   "display_name": "Python [conda env:scooters]",
   "language": "python",
   "name": "conda-env-scooters-py"
  },
  "language_info": {
   "codemirror_mode": {
    "name": "ipython",
    "version": 3
   },
   "file_extension": ".py",
   "mimetype": "text/x-python",
   "name": "python",
   "nbconvert_exporter": "python",
   "pygments_lexer": "ipython3",
   "version": "3.10.14"
  }
 },
 "nbformat": 4,
 "nbformat_minor": 5
}
